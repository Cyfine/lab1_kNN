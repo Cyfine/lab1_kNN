{
 "cells": [
  {
   "cell_type": "markdown",
   "source": [
    "# Lab Report: Classification with k-Nearest Neighbour Algorithm\n",
    "## Example 1: Improving Matches for A Dating Site with KNN\n",
    "### 1.1 Data Processing\n",
    "This part will load data from the file, then normalize the data.\n",
    "\n",
    "#### 1.1.1 file2matrix\n",
    "In each line of the data file given by Helen, first three numbers representing the feature of data object, while the fourth represents the label. The `file2matrix` function is being used to load the original feature and label from file.\n",
    "It first use python built-in `open` function to load the file. `fr` is a `TextIoWrapper` object, it has `readlines()` method that can return `list` containing string for each line. `len` method is used to count number of lines, so that we can initialize a ndarray having proper size to store the data. We iterate the list storing the line strings, in order to extract the feature value and write to original feature matrix and class_label_vector. And finally, it returns the original feature matrix and class label vector\n",
    "\n",
    "***Input params***: The string filename inciting the path of the data file.\n",
    "***Output***: The original feature matrix  with each row representing the data point - return_mat (ndarray), and the label vector - class_label_vector(python list).\n",
    "\n",
    "The detail explanations for each line of file2matrix are written in line comments of following code cell."
   ],
   "metadata": {
    "collapsed": false
   }
  },
  {
   "cell_type": "code",
   "execution_count": 64,
   "metadata": {
    "pycharm": {
     "name": "#%%\n"
    }
   },
   "outputs": [],
   "source": [
    "from numpy import *\n",
    "import operator\n",
    "# numpy.set_printoptions(threshold=np.inf)\n",
    "\n",
    "def file2matrix(filename):\n",
    "    # Load the file with given filename, and store in the variable fr\n",
    "    fr = open(filename)\n",
    "    #fr.readlines() read the txt file to list, the len method counts lines in the file,\n",
    "    number_of_lines = len(fr.readlines())\n",
    "    # define a 2d numpy array , to store the coordinate of the data points x\n",
    "    return_mat = zeros((number_of_lines, 3))\n",
    "    # used to store the label of data points, y\n",
    "    class_label_vector = []\n",
    "    index = 0\n",
    "    # here we  open the file repeatedly for reason\n",
    "    # If we do not open the file again we will get nothing from fr.readlines()\n",
    "    # As the previous fr.readlines() has move file pointer to the end of the file.\n",
    "    fr = open(filename)\n",
    "    for line in fr.readlines():\n",
    "        #trim the spaces at the head and tail of each lines\n",
    "        line = line.strip()\n",
    "        # the data points are divided using tab,\n",
    "        # split the string, and extract tokens from the line-string\n",
    "        list_from_line = line.split('\\t')\n",
    "        # the first three numbers are the original features\n",
    "        return_mat[index, :] = list_from_line[0:3]\n",
    "        # last number is the feature, stored in the class_label_vector\n",
    "        class_label_vector.append(int(list_from_line[-1]))\n",
    "        #the index is used to keep track of the row number, write to return_mat sequentially\n",
    "        index += 1\n",
    "    #return the original feature matrix and class label vector\n",
    "    return return_mat, class_label_vector"
   ]
  },
  {
   "cell_type": "markdown",
   "metadata": {},
   "source": [
    "Here we load matrix `datingDataMat` and class label vector from the training data file. And print the nparray to see if the data is loaded correctly."
   ]
  },
  {
   "cell_type": "code",
   "execution_count": 65,
   "metadata": {
    "pycharm": {
     "name": "#%%\n"
    }
   },
   "outputs": [
    {
     "name": "stdout",
     "output_type": "stream",
     "text": [
      "\n",
      " Original features\n",
      "[[4.0920000e+04 8.3269760e+00 9.5395200e-01]\n",
      " [1.4488000e+04 7.1534690e+00 1.6739040e+00]\n",
      " [2.6052000e+04 1.4418710e+00 8.0512400e-01]\n",
      " ...\n",
      " [2.6575000e+04 1.0650102e+01 8.6662700e-01]\n",
      " [4.8111000e+04 9.1345280e+00 7.2804500e-01]\n",
      " [4.3757000e+04 7.8826010e+00 1.3324460e+00]]\n",
      "\n",
      " Labels:\n",
      "[3, 2, 1, 1, 1, 1, 3, 3, 1, 3, 1, 1, 2, 1, 1, 1, 1, 1, 2, 3]\n"
     ]
    }
   ],
   "source": [
    "datingDataMat, datingLabels = file2matrix('datingTestSet2.txt')\n",
    "print(\"\\n Original features\")\n",
    "print(datingDataMat)\n",
    "print(\"\\n Labels:\")\n",
    "#print first 20 labels\n",
    "print(datingLabels[0:20])"
   ]
  },
  {
   "cell_type": "markdown",
   "metadata": {},
   "source": [
    "#### 1.1.2 autoNorm\n",
    "For the each feature from the training data, it has different scale. The classification will biased to the feature with larger scale if we do not normalize the features.\n",
    "With AutoNorm function will normalize data using max-min normalization.\n",
    "##### 1.1.2.1 Code and details\n",
    "The input parameter is the original feature of data matrix. The  `min(0)` and `max(0)` will find out the minimum value and maximum value among all elements in each column (feature) of the data matrix. For the max function, without parameter it will find out the maximum element in the whole matrix. If we use 0 as parameter it will find out the max value in each column while using 1 in each row, and return array of max values. The minVals and maxVals are ndarray with length of 3 containing the maximum and minimum values of each column. The minVals - maxVals will conduct element wise operation on the ndarray.`ranges` contains the range of each feature (max - min). The `shape` function of ndarray will return shape of the ndarray in tuple format (rows, columns). We can obtain the number of rows using `dataset.shape[0]`. The `tile` function is being used to construct ndarray with repeated given component. The second parameter of  `tile` function, is array-like, indicates how many times the given ndarray(or a single number) is being repeated along each axis.`tile(minVals, (m,1))` will construct a matrix with `minVals` repeat m time along axis=0 and 1 times along axis=1, which is a matrix with m `minVal` row vectors stacked. It has same shape as `dataset` matrix. Operator can be directly applied to ndarray with homo shape to conduct elementwise operation.\n",
    "```python\n",
    "    normDataset = dataset - tile(minVals, (m, 1))\n",
    "    normDataset = normDataset / tile(ranges, (m, 1))\n",
    "```\n",
    "Those two lines apply element wise operation on the the the dataset. The normDataset is the result of each element of datamatrix being max-min normalized. At the end, we return the result of, of normalized dataset matrix, and ranges and minVal vectors.\n",
    "\n",
    "***Input params***: original feature matrix to be normalized, ndarray.\n",
    "***Output***:  normalized feature matrix, ndarray. The vector with each element represent the range of each feature. The minVals vector representing the minimal value of each feature:\n",
    "\n",
    "The ranges and minVals will be used to normalized the testing dataset.\n",
    "\n"
   ]
  },
  {
   "cell_type": "code",
   "execution_count": 66,
   "metadata": {
    "pycharm": {
     "name": "#%%\n"
    }
   },
   "outputs": [],
   "source": [
    "def autoNorm(dataset: ndarray):\n",
    "    minVals = dataset.min(0)\n",
    "    maxVals = dataset.max(0)\n",
    "    ranges = maxVals - minVals\n",
    "    normDataset = zeros(shape(dataset))\n",
    "    m = dataset.shape[0]\n",
    "    normDataset = dataset - tile(minVals, (m, 1))\n",
    "    normDataset = normDataset / tile(ranges, (m, 1))\n",
    "    return normDataset, ranges, minVals\n"
   ]
  },
  {
   "cell_type": "markdown",
   "source": [
    "Print some of loaded features"
   ],
   "metadata": {
    "collapsed": false,
    "pycharm": {
     "name": "#%% md\n"
    }
   }
  },
  {
   "cell_type": "code",
   "execution_count": 67,
   "metadata": {
    "pycharm": {
     "name": "#%%\n"
    }
   },
   "outputs": [
    {
     "name": "stdout",
     "output_type": "stream",
     "text": [
      "\n",
      " Normalized features:\n",
      "[[0.44832535 0.39805139 0.56233353]\n",
      " [0.15873259 0.34195467 0.98724416]\n",
      " [0.28542943 0.06892523 0.47449629]\n",
      " ...\n",
      " [0.29115949 0.50910294 0.51079493]\n",
      " [0.52711097 0.43665451 0.4290048 ]\n",
      " [0.47940793 0.3768091  0.78571804]]\n"
     ]
    }
   ],
   "source": [
    "normMat, ranges, minVals = autoNorm(datingDataMat)\n",
    "print('\\n Normalized features:')\n",
    "print(normMat)"
   ]
  },
  {
   "cell_type": "markdown",
   "metadata": {},
   "source": [
    "### 1.2 Classification\n",
    "Here, will be the core part of this report. Classification using kNN algorithm. The basic idea of KNN algorithm is: with a newly given data point to predict, in the training set we find k closest data points to the new data point and do a majority vote on labels of those k data points to determine the label of the newly given data point.\n",
    "\n",
    "#### 1.2.1 classify0\n",
    "The classify0 function will first calculate the distance of the given new data point to rest of the data points stored in a list. Using `argsrot` to find k nearst data points. The loop iterate the count the frequency of labels in those k neighbours. Then we sort the label frequent dictionary in descending order to obtain the most frequent label as the classification result.\n",
    "\n",
    "***Input params***: `inX` - The testing data vector, representing a single data point, it should be normalized using the `range` and the `minVals` vector. `dataset` is the normalized feature matrix.\n",
    "***Output***: The predicted label of the given testing datapoint."
   ]
  },
  {
   "cell_type": "code",
   "execution_count": 68,
   "metadata": {
    "pycharm": {
     "name": "#%%\n"
    }
   },
   "outputs": [],
   "source": [
    "def classify0(inX: ndarray, dataset: ndarray, labels: list, k):\n",
    "    # number of data points in the dataset matrix\n",
    "    datasetSize = dataset.shape[0]\n",
    "    # first construct a same size matrix as the data set matrix by staking\n",
    "    # the testing point repeatedly, and then subtract dataset matrix elementwise\n",
    "    diffMat = tile(inX, (datasetSize, 1)) - dataset\n",
    "    #squre the difference\n",
    "    sqDiffMat = diffMat ** 2\n",
    "    # sum up\n",
    "    sqDistances = sqDiffMat.sum(axis=1)\n",
    "    # root the squire sum get the euclidean distance\n",
    "    distances = sqDistances ** 0.5\n",
    "    #argsort the distance in order to get indices of k nearst neighbours\n",
    "    sortedDistIndices = distances.argsort()\n",
    "    classCount = {}\n",
    "    for i in range(k):\n",
    "        # get the labels of first k neighbours\n",
    "        vote_labels = labels[sortedDistIndices[i]]\n",
    "        # count the labels\n",
    "        classCount[vote_labels] = classCount.get(vote_labels, 0) + 1\n",
    "        #using the count frequency sort the class count dictionary in descending order,\n",
    "        # which obtain list of tuples (tuple is the key value pair of the classCount dictionary)\n",
    "        sorted_class_count = sorted(classCount.items(), key=operator.itemgetter(1), reverse=True)\n",
    "    #return the class count, which is the label with the largest count\n",
    "    return sorted_class_count[0][0]"
   ]
  },
  {
   "cell_type": "markdown",
   "source": [
    "#### 1.2.2 classifyPerson\n",
    "This function simply assemble all the functions before to perform the classification task for the dating site. It first get data point from user, then call `file2matrix` to load the training dataset file to matrix. `AutoNorm` will not only normalize the original feature matrix, its return value `range` and `minVals` will be used to normalize the input vector. Passing training data and and testing vector, classification will be done by `classify0`.\n",
    "\n",
    "***Input***: The three features of testing data point, to make something different from the lab manual, the feature is [49459,8,0.5]\n",
    "***Output***: The predicted result of the testing data point with given training dataset."
   ],
   "metadata": {
    "collapsed": false
   }
  },
  {
   "cell_type": "code",
   "execution_count": 69,
   "metadata": {
    "pycharm": {
     "name": "#%%\n"
    }
   },
   "outputs": [
    {
     "name": "stdout",
     "output_type": "stream",
     "text": [
      "[1. 1. 1.]\n",
      "\n",
      " You will probably like this person:   in small doses\n",
      "[1. 1. 1.]\n",
      "\n",
      " You will probably like this person:   in small doses\n"
     ]
    }
   ],
   "source": [
    "def classifyPerson():\n",
    "    # The label name corresponding to the number label\n",
    "    resultList = ['not at all', ' in small doses', 'in large doses']\n",
    "    # Following three lines requesting user input to obtain the features of the tesing datapoint\n",
    "    ffMiles = float(input('\\n Feature 1:'))\n",
    "    percentTats = float(input(\"\\n Feature 2:\"))\n",
    "    iceCream = float(input(\"\\n Feature 3:\"))\n",
    "    # get the original feature matrix and label from file\n",
    "    datingDataMat, datingLabels = file2matrix('datingTestSet2.txt')\n",
    "    #normalize the oringal label matrix, get the max-min range vector and minVals vector\n",
    "    normMat, ranges, minVals = autoNorm(datingDataMat)\n",
    "    # convert the input feature values to vector\n",
    "    inArr = array([ffMiles, percentTats, iceCream])\n",
    "    # normalize the input testing data point vector, do then do the classification\n",
    "    classifier_result = classify0((inArr - minVals) / ranges, normMat, datingLabels, 3)\n",
    "    # print the classification result\n",
    "    print(inArr)\n",
    "    print(\"\\n You will probably like this person: \", resultList[classifier_result - 1])\n",
    "\n",
    "\n",
    "classifyPerson() # [49459,8,0.5] in large dose\n",
    "classifyPerson() # [10000,10,0.5] in small dose"
   ]
  },
  {
   "cell_type": "markdown",
   "metadata": {},
   "source": []
  },
  {
   "cell_type": "markdown",
   "metadata": {},
   "source": [
    "## Example 2: A Handwriting Recognition System\n",
    "\n",
    "### 2.1 Data Processing\n",
    "The hand written digits are stored in the txt file, and only have binary degree of color. This part will load the hand written digit to vector. **Here, I add new one more function myself, which is the visualize_digit.** The visualize_digit is used to visualize the hand written digit so that we can more clearly see if the data is loaded correctly. Also we can use it to visualize some of those misclassified digits.\n",
    "#### 2.1.1 visualize_digit\n",
    "A simple function for visualizing the hand written digits.\n",
    "\n",
    "***Input params***: The 1d image vector, 1024 in length\n",
    "***Output***: Visualized hand written digit."
   ]
  },
  {
   "cell_type": "code",
   "execution_count": 70,
   "metadata": {
    "pycharm": {
     "name": "#%%\n"
    }
   },
   "outputs": [],
   "source": [
    "from os import listdir\n",
    "from numpy import *\n",
    "import matplotlib.pyplot as plt\n",
    "\n",
    "\n",
    "def visualize_digit(digit_vec: ndarray, title='Hand Written Digit'):\n",
    "    #define the size of the figure\n",
    "    fig = plt.figure(figsize=(6, 3.2))\n",
    "    # reshape the 1d vector to a 32*32 vector\n",
    "    digit_vec = digit_vec.reshape((32, 32))\n",
    "    ax = fig.add_subplot(111)\n",
    "    ax.set_title(title)\n",
    "    plt.imshow(digit_vec, cmap='gray', vmin=0, vmax=1)\n",
    "    ax.set_aspect('equal')\n",
    "    plt.colorbar(ax=ax, orientation='vertical')\n",
    "    plt.show()"
   ]
  },
  {
   "cell_type": "markdown",
   "source": [
    "#### 2.1.2 img2Vector\n",
    "This block of code is used to load the hand written digit array from file. And it will return a 2d array, with only one row along axis=0, ane 1024 columns along axis=1.\n",
    "\n",
    "Here to mention the advance indexing of the ndarray.\n",
    "```python\n",
    " ndarray[rows, cols]\n",
    "```\n",
    "If using single number of row or single number of col, it is equivalent to the `ndarray[row][col]`. Using array like `rows` and `cols`, it will return the indexed element array with same shape as rows array.\n",
    "\n",
    "***Input:*** The file path.\n",
    "***Output:*** THe image vector, the shape is (1,1024)\n"
   ],
   "metadata": {
    "collapsed": false,
    "pycharm": {
     "name": "#%% md\n"
    }
   }
  },
  {
   "cell_type": "code",
   "execution_count": 71,
   "outputs": [],
   "source": [
    "def img2Vector(filename):\n",
    "    # initialize array with one row along axis 0 and 1024 columns along axis = 1\n",
    "    returnVect = zeros((1, 1024))\n",
    "    fr = open(filename)\n",
    "\n",
    "    # The digit matrix stored in the file is 32*32 format, we need to iterate through\n",
    "    # to flatten the 32*32 matrix to 1*1024 matrix\n",
    "    for i in range(32):\n",
    "        lineStr = fr.readline()\n",
    "        for j in range(32):\n",
    "            returnVect[0, 32 * i + j] = int(lineStr[j])\n",
    "    return returnVect"
   ],
   "metadata": {
    "collapsed": false,
    "pycharm": {
     "name": "#%%\n"
    }
   }
  },
  {
   "cell_type": "markdown",
   "source": [
    "Print the first 32 digits of the loaded vector and the digit image."
   ],
   "metadata": {
    "collapsed": false
   }
  },
  {
   "cell_type": "code",
   "execution_count": 72,
   "outputs": [
    {
     "name": "stdout",
     "output_type": "stream",
     "text": [
      "[0. 0. 0. 0. 0. 0. 0. 0. 0. 0. 0. 0. 0. 0. 1. 1. 1. 1. 0. 0. 0. 0. 0. 0.\n",
      " 0. 0. 0. 0. 0. 0. 0. 0.]\n"
     ]
    },
    {
     "data": {
      "text/plain": "<Figure size 432x230.4 with 2 Axes>",
      "image/png": "[encoded data removed]"
     },
     "metadata": {
      "needs_background": "light"
     },
     "output_type": "display_data"
    }
   ],
   "source": [
    "print(img2Vector(\"testDigits/0_13.txt\")[0][0:32])\n",
    "visualize_digit(img2Vector(\"testDigits/0_13.txt\")[0])"
   ],
   "metadata": {
    "collapsed": false,
    "pycharm": {
     "name": "#%%\n"
    }
   }
  },
  {
   "cell_type": "markdown",
   "source": [
    "#### 2.1.2 formulateTrainingData\n",
    "The img2Vector is used to load single digit file. The `formulateTrainData` will load all the training digit in batch. If we have `m` training samples, it will return a $\\mathbb{R}^{m\\times 1024}$ matrix staking all images vectors. The label for the digit images is in the file name. By splitting the file name string, we can obtain the label for the given digit image. `listdir` is the function that load the directory filenames to a list. Using the filename list, the digit images and label can be loaded. The detailed explanation for the code is written in the line comment.\n",
    "\n",
    "***Input:*** No input from the parameter or console. The digits to be load is under the trainingDigits directory.\n",
    "***Output:*** The ndarray with shape of (m,1024), m is the number of digits loaded.\n"
   ],
   "metadata": {
    "collapsed": false,
    "pycharm": {
     "name": "#%% md\n"
    }
   }
  },
  {
   "cell_type": "code",
   "execution_count": 73,
   "metadata": {
    "pycharm": {
     "name": "#%%\n"
    }
   },
   "outputs": [],
   "source": [
    "def formulateTrainingData():\n",
    "    hwLabels = []\n",
    "    #obtain filename list\n",
    "    trainingFilelist = listdir('trainingDigits')\n",
    "    # get number of digit files to load the image to the list\n",
    "    m = len(trainingFilelist)\n",
    "    # initialize an ndarray to store the image vectors\n",
    "    trainingMat = zeros((m, 1024))\n",
    "    for i in range(m):\n",
    "        fileNameStr = trainingFilelist[i]\n",
    "        #omit file extension\n",
    "        fileStr = fileNameStr.split('.')[0]\n",
    "        #get label\n",
    "        classNumStr = int(fileStr.split('_')[0])\n",
    "        #append label to list\n",
    "        hwLabels.append(classNumStr)\n",
    "        # add image vector to row i of the data matrix\n",
    "        trainingMat[i, :] = img2Vector('trainingDigits/%s' % fileNameStr)\n",
    "    return trainingMat, hwLabels\n",
    "\n",
    "\n",
    "trainingMat, hwLabels = formulateTrainingData()"
   ]
  },
  {
   "cell_type": "markdown",
   "source": [
    "### 2.2 Classification\n",
    "We can reuses the previous `classifiy0` to perform the classification task.\n",
    "#### 2.2.1 handwritingClassTest\n",
    " This function will first load the training dataset, then load the test dataset. For each image in the test dataset, it will be passed to the `classify0` function to get the predicted label. By comparing the true label and predicted label, we will know if the image is misclassified. The function will count the number of misclassified images, and after classify all the images, it calculates the error rate.\n",
    "\n",
    "***Input:*** The trainingMat is a (m,1024) ndarray with each row is the handWritten digit vector. hwLabels is the ture label of the hand written digit correspond to each row of the trainingMat.\n",
    "***Output:*** `false_labels` : the misclassified labels, `misclassified_images`: image vector of misclassified digits, `true_lable`: true label of the misclassified digits. The console will output the error count and the error rate by errorCnt/TestNum\n",
    "The return value will be used later to visualize those misclassified digits."
   ],
   "metadata": {
    "collapsed": false
   }
  },
  {
   "cell_type": "code",
   "execution_count": 74,
   "metadata": {
    "pycharm": {
     "name": "#%%\n"
    }
   },
   "outputs": [
    {
     "name": "stdout",
     "output_type": "stream",
     "text": [
      "10\n",
      "\n",
      " The total number of errors is: 10\n",
      "\n",
      " The total error rate is 0.010571\n"
     ]
    }
   ],
   "source": [
    "def handwritingClassTest(trainingMat, hwLabels):\n",
    "    # get the filename list for the testing dataset\n",
    "    testFileList = listdir('testDigits')\n",
    "    errorCount = 0.0\n",
    "    mTest = len(testFileList)\n",
    "\n",
    "    misclassified_images = []\n",
    "    false_labels = []\n",
    "    true_labels = []\n",
    "\n",
    "    for i in range(mTest):\n",
    "        # get the testing vector and its label\n",
    "        fileNameStr = testFileList[i]\n",
    "        fileStr = fileNameStr.split('.')[0]\n",
    "        classNumStr = int(fileStr.split('_')[0])\n",
    "        vectorUnderTest = img2Vector('testDigits/%s' % fileNameStr)\n",
    "\n",
    "        # pass the vector under test and training dataset to predict the result\n",
    "        classifierResult = classify0(vectorUnderTest, trainingMat, hwLabels, 3)\n",
    "\n",
    "        # check if the vector is misclassified, if so, count error\n",
    "        # and record the image vector, true label and misclassified label\n",
    "        if classifierResult != classNumStr:\n",
    "            errorCount += 1.0\n",
    "            misclassified_images.append(vectorUnderTest[0])\n",
    "            false_labels.append(classifierResult)\n",
    "            true_labels.append(classNumStr)\n",
    "\n",
    "    print(str(len(false_labels)))\n",
    "    print(\"\\n The total number of errors is: %d\" % errorCount)\n",
    "    print(\"\\n The total error rate is %f\" % (errorCount / float(mTest)))\n",
    "    return false_labels, true_labels, misclassified_images\n",
    "\n",
    "\n",
    "false_labels, true_labels, misclassified_images = handwritingClassTest(trainingMat, hwLabels)"
   ]
  },
  {
   "cell_type": "markdown",
   "source": [
    "#### 2.2.2 Print misclassified digits\n",
    "Using matplotlib to print some of those misclassified digits."
   ],
   "metadata": {
    "collapsed": false
   }
  },
  {
   "cell_type": "code",
   "execution_count": 75,
   "outputs": [
    {
     "data": {
      "text/plain": "<Figure size 1080x1080 with 10 Axes>",
      "image/png": "[encoded data removed]"
     },
     "metadata": {
      "needs_background": "light"
     },
     "output_type": "display_data"
    }
   ],
   "source": [
    "title = 'True: {}, Misclassified: {}'\n",
    "fig = plt.figure(figsize=(15, 15))\n",
    "fig.tight_layout()\n",
    "plt.subplots_adjust(hspace=0.5, wspace=1)\n",
    "columns = 4\n",
    "rows = 5\n",
    "for i in range(1,min(columns * rows + 1, len(misclassified_images)+1)):\n",
    "    img = misclassified_images[i-1].reshape((32, 32))\n",
    "    ax = fig.add_subplot(rows, columns, i)\n",
    "    ax.set_title(title.format(true_labels[i-1], false_labels[i-1]))\n",
    "    plt.imshow(img, cmap='gray', vmin=0, vmax=1)\n",
    "\n",
    "plt.show()"
   ],
   "metadata": {
    "collapsed": false,
    "pycharm": {
     "name": "#%%\n"
    }
   }
  },
  {
   "cell_type": "markdown",
   "source": [
    "## Exercise\n",
    "Both training dataset and testing dataset are stored in the csv file.\n",
    "\n",
    "<div>\n",
    "<h6>Training Dataset:</h6>\n",
    "<img height=\"190\" src=\"exe_train.png\" title=\"Training Dataset\" width=\"450\"/>\n",
    "</div>\n",
    "\n",
    "<div>\n",
    "<h6>Test Dataset:</h6>\n",
    "<img height=\"74\" src=\"exercise_test.png\" title=\"Execrise test dataset\" width=\"371\"/>\n",
    "</div>"
   ],
   "metadata": {
    "collapsed": false
   }
  },
  {
   "cell_type": "markdown",
   "source": [
    "### 3.1 load_data\n",
    "This method will load data from the csv file. And return data matrix and label. The last column of the file will be returned as label, and first 4 columns returned as features. So this single function can be used either to load train dataset with label or test dataset with features only. When load the test data set, we just simply ignore the `labels` return value.\n",
    "\n",
    "***Input:*** The filename of the data to be load. It can be the path of either training data or testing data.\n",
    "***Output:*** The data matrix with shape (m,4), where m is number of data points. Labels is the last column of the input file, which are labels if the file loaded are training dataset. If the input file loaded is test dataset, the labels vector is just the fourth feature, is useless and can be discarded.\n",
    "\n",
    "Here, the implementation is basically the same as previous code, so I do not specify the functionality of the code line by line. (After all, I wrote following code myself)"
   ],
   "metadata": {
    "collapsed": false
   }
  },
  {
   "cell_type": "code",
   "execution_count": 76,
   "outputs": [],
   "source": [
    "def load_data(filename: str):\n",
    "    f = open(filename)\n",
    "    lines = f.readlines()\n",
    "    dataMat = zeros((len(lines), 4))\n",
    "    labels = []\n",
    "\n",
    "    cnt = 0\n",
    "    for line in lines:\n",
    "        tokens = line.strip().split(',')\n",
    "        labels.append(tokens[-1])\n",
    "        dataMat[cnt, :] = float(tokens[0]), float(tokens[1]), float(tokens[2]), float(tokens[3])\n",
    "        cnt = cnt + 1\n",
    "    return dataMat, labels"
   ],
   "metadata": {
    "collapsed": false,
    "pycharm": {
     "name": "#%%\n"
    }
   }
  },
  {
   "cell_type": "markdown",
   "source": [
    "### 3.2 Point classification\n",
    "This function will load the data first, then normalize the training data and testing data. With previous defined KNN function `classify0`, classification will be performed. Return value `result` is the predicted label for testing points.\n",
    "\n",
    "***Input:*** The file path of training data and testing data. k is the parameter for the kNN algorithm.\n",
    "***Output:*** The label of the testing data point, with the sequence same as the datapoint in the testing data points file."
   ],
   "metadata": {
    "collapsed": false,
    "pycharm": {
     "name": "#%% md\n"
    }
   }
  },
  {
   "cell_type": "code",
   "execution_count": 77,
   "outputs": [],
   "source": [
    "def classify_points(train_data_path: str, test_data_path: str, k: int):\n",
    "    orig_dataset, labels = load_data(train_data_path)\n",
    "    test_dataset = load_data(test_data_path)[0]\n",
    "    #normlize training feature matrix\n",
    "    norm_dataset, range_vec, min_vec = autoNorm(orig_dataset)\n",
    "    #normalize test data point matrix\n",
    "    norm_test_dataset = (test_dataset - tile(min_vec, (len(test_dataset), 1))) / tile(range_vec, (len(test_dataset), 1))\n",
    "    result = []\n",
    "    for point in norm_test_dataset:\n",
    "        #Here the point is normalized, directly pass to the classify0 function\n",
    "        predict = classify0(point, norm_dataset, labels, k)\n",
    "        result.append(predict)\n",
    "    return result"
   ],
   "metadata": {
    "collapsed": false,
    "pycharm": {
     "name": "#%%\n"
    }
   }
  },
  {
   "cell_type": "markdown",
   "source": [
    "Print predict with k=3 and k=5, then print the prediction result."
   ],
   "metadata": {
    "collapsed": false,
    "pycharm": {
     "name": "#%% md\n"
    }
   }
  },
  {
   "cell_type": "code",
   "execution_count": 78,
   "outputs": [
    {
     "name": "stdout",
     "output_type": "stream",
     "text": [
      "k=3\n",
      "['B', 'B']\n",
      "k=5\n",
      "['B', 'B']\n"
     ]
    }
   ],
   "source": [
    "predict_label_3 = classify_points(train_data_path='exercise_train.csv',\n",
    "                                  test_data_path='exercise_test.csv',\n",
    "                                  k=3)\n",
    "\n",
    "predict_label_5 = classify_points(train_data_path='exercise_train.csv',\n",
    "                                  test_data_path='exercise_test.csv',\n",
    "                                  k=3)\n",
    "print('k=3')\n",
    "print(predict_label_3)\n",
    "print('k=5')\n",
    "print(predict_label_5)"
   ],
   "metadata": {
    "collapsed": false,
    "pycharm": {
     "name": "#%%\n"
    }
   }
  }
 ],
 "metadata": {
  "kernelspec": {
   "display_name": "Python 3 (ipykernel)",
   "language": "python",
   "name": "python3"
  },
  "language_info": {
   "codemirror_mode": {
    "name": "ipython",
    "version": 3
   },
   "file_extension": ".py",
   "mimetype": "text/x-python",
   "name": "python",
   "nbconvert_exporter": "python",
   "pygments_lexer": "ipython3",
   "version": "3.9.7"
  }
 },
 "nbformat": 4,
 "nbformat_minor": 1
}